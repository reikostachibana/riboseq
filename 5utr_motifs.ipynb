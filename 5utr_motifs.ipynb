{
 "cells": [
  {
   "cell_type": "code",
   "execution_count": 1,
   "id": "ae1c4c48-76ca-463f-a3a8-c617f27ab586",
   "metadata": {},
   "outputs": [],
   "source": [
    "import pandas as pd\n",
    "import numpy as np\n",
    "%matplotlib inline\n",
    "import ribopy\n",
    "from ribopy import Ribo\n",
    "from ribopy.core.get_gadgets import get_region_boundaries, get_reference_names\n",
    "from ribopy_functions import get_cds_range_lookup, apris_human_alias, get_psite_offset, get_sequence\n",
    "import gzip\n",
    "import pickle\n",
    "import matplotlib.pyplot as plt"
   ]
  },
  {
   "cell_type": "code",
   "execution_count": 2,
   "id": "a182a8e0-fd61-44df-bbea-bc2a3054332a",
   "metadata": {},
   "outputs": [],
   "source": [
    "ribo_path   = \"all.ribo\"\n",
    "ribo_object = Ribo(ribo_path, alias = ribopy.api.alias.apris_human_alias)\n",
    "reference_file_path = \"appris_mouse_v2_selected.fa.gz\""
   ]
  },
  {
   "cell_type": "code",
   "execution_count": 3,
   "id": "2840bd83-fc8e-4bfd-bf0c-31fdf52cf4c1",
   "metadata": {},
   "outputs": [],
   "source": [
    "with gzip.open('HSC_vehicle_vs_GMP_vehicle_negForwarded.pkl.gz', 'rb') as f:\n",
    "    coverage_dict = pickle.load(f)"
   ]
  },
  {
   "cell_type": "code",
   "execution_count": 4,
   "id": "3489e0d2-a15c-4371-9af1-4629009f0c18",
   "metadata": {},
   "outputs": [],
   "source": [
    "cds_range = get_cds_range_lookup(ribo_object)\n",
    "sequence = get_sequence(ribo_object, reference_file_path, True)"
   ]
  },
  {
   "cell_type": "code",
   "execution_count": 5,
   "id": "f2653b30-eb63-487f-ac8c-86bd4407c969",
   "metadata": {},
   "outputs": [],
   "source": [
    "datasets = ['GMP_vehicle_A', 'GMP_vehicle_B', 'HSC_vehicle_A', 'HSC_vehicle_B']\n",
    "\n",
    "for exp in datasets:\n",
    "    transcripts_to_remove = []  # List to store transcripts to be removed\n",
    "    transcripts = list(coverage_dict[exp])\n",
    "    \n",
    "    for transcript in transcripts:\n",
    "        if sum(coverage_dict[exp][transcript]) == 0:\n",
    "            transcripts_to_remove.append(transcript)  # Mark for removal\n",
    "    \n",
    "    # Remove transcripts with a sum of 0\n",
    "    for transcript in transcripts_to_remove:\n",
    "        del coverage_dict[exp][transcript]"
   ]
  },
  {
   "cell_type": "code",
   "execution_count": 13,
   "id": "68f29867-e283-4212-b2a1-1d086707cf57",
   "metadata": {},
   "outputs": [],
   "source": [
    "normalized_coverage_dict = {}\n",
    "\n",
    "# Normalize for each dataset\n",
    "for dataset in datasets:\n",
    "    normalized_coverage_dict[dataset] = {\n",
    "        transcript: [coverages / sum(coverages)] * 1000\n",
    "        for transcript, coverages in coverage_dict[dataset].items()\n",
    "    }"
   ]
  },
  {
   "cell_type": "code",
   "execution_count": 15,
   "id": "4e103012-2701-4bdc-9546-4c857df0226f",
   "metadata": {},
   "outputs": [],
   "source": [
    "normalized_coverage_dict "
   ]
  },
  {
   "cell_type": "code",
   "execution_count": 10,
   "id": "f0f10be6-b26b-45c6-8d83-9a03f2c1e890",
   "metadata": {},
   "outputs": [
    {
     "name": "stderr",
     "output_type": "stream",
     "text": [
      "/var/folders/jd/fjgmspbj6zs0pqckr9dv96f40000gn/T/ipykernel_26024/1595301576.py:19: UserWarning: FigureCanvasAgg is non-interactive, and thus cannot be shown\n",
      "  plt.show()\n"
     ]
    }
   ],
   "source": [
    "transcripts = list(normalized_coverage_dict['GMP_vehicle_A'])\n",
    "transcript = transcripts[0]\n",
    "\n",
    "gmp_coverage = [(coverage_a + coverage_b) / 2 \n",
    "                for coverage_a, coverage_b in zip(normalized_coverage_dict['GMP_vehicle_A'][transcript],\n",
    "                                                    normalized_coverage_dict['GMP_vehicle_B'][transcript])]\n",
    "\n",
    "hsc_coverage = [(coverage_a + coverage_b) / 2 \n",
    "                for coverage_a, coverage_b in zip(normalized_coverage_dict['HSC_vehicle_A'][transcript],\n",
    "                                                    normalized_coverage_dict['HSC_vehicle_B'][transcript])]\n",
    "\n",
    "plt.figure(figsize=(10, 6))\n",
    "plt.plot(gmp_coverage, label=\"GMP Vehicle\", alpha=0.7)\n",
    "plt.plot(hsc_coverage, label=\"HSC Vehicle\", alpha=0.7)\n",
    "plt.xlabel(\"Position along transcript\")\n",
    "plt.ylabel(\"Coverage\")\n",
    "plt.title(f\"Coverage {transcript}\")\n",
    "plt.legend()\n",
    "plt.show()"
   ]
  },
  {
   "cell_type": "code",
   "execution_count": 16,
   "id": "df9795ee-4ef0-47ea-8441-4a1b9e30d0c8",
   "metadata": {},
   "outputs": [
    {
     "data": {
      "text/plain": [
       "['Acadsb-201',\n",
       " 'Adgre4-201',\n",
       " 'Als2-201',\n",
       " 'Adgre1-202',\n",
       " 'Alox5ap-201',\n",
       " 'Ano6-201',\n",
       " 'Angpt1-201',\n",
       " 'Adgrl4-201',\n",
       " 'Asnsd1-201',\n",
       " 'Aspa-206',\n",
       " 'Asph-202',\n",
       " 'Atp1b3-201',\n",
       " 'B4galt6-201',\n",
       " 'C5ar1-202',\n",
       " 'Cd300ld-201',\n",
       " 'Ces1d-201',\n",
       " 'Cyp2a5-201',\n",
       " 'Ctsg-201',\n",
       " 'Ddx3y-201',\n",
       " 'Dach1-202',\n",
       " 'Dnajc25-201',\n",
       " 'Diaph3-202',\n",
       " 'Ecm1-202',\n",
       " 'Ecpas-202',\n",
       " 'Eif2s3y-201',\n",
       " 'Elane-201',\n",
       " 'Eif2ak4-201',\n",
       " 'Fut8-201',\n",
       " 'Glipr2-201',\n",
       " 'Epha7-201',\n",
       " 'Hdc-201',\n",
       " 'Hnmt-201',\n",
       " 'Mgl2-201',\n",
       " 'Jmjd1c-201',\n",
       " 'Map4k5-201',\n",
       " 'Nedd4-201',\n",
       " 'Ndc1-204',\n",
       " 'Olfml2b-201',\n",
       " 'Osmr-201',\n",
       " 'Pde3b-201',\n",
       " 'Pgrmc1-201',\n",
       " 'Peli1-202',\n",
       " 'Ppm1e-201',\n",
       " 'Phf3-205',\n",
       " 'Phip-201',\n",
       " 'Prg2-201',\n",
       " 'Prg3-201',\n",
       " 'Ptgr1-201',\n",
       " 'Ptgs1-201',\n",
       " 'Retsat-201',\n",
       " 'Rdx-201',\n",
       " 'Reep3-201',\n",
       " 'Selenot-201',\n",
       " 'Sipa1l1-202',\n",
       " 'Slc16a3-208',\n",
       " 'Slc28a2-203',\n",
       " 'Stfa3-201',\n",
       " 'Syne2-201',\n",
       " 'Tbkbp1-204',\n",
       " 'Tnpo1-201',\n",
       " 'Zc3h12c-202']"
      ]
     },
     "execution_count": 16,
     "metadata": {},
     "output_type": "execute_result"
    }
   ],
   "source": [
    "transcripts"
   ]
  },
  {
   "cell_type": "markdown",
   "id": "9c150690-8356-4b35-935c-8825dc16be51",
   "metadata": {},
   "source": [
    "# archive"
   ]
  },
  {
   "cell_type": "code",
   "execution_count": 4,
   "id": "65a2cc1e-2d25-4de6-8155-d2dd81134570",
   "metadata": {},
   "outputs": [],
   "source": [
    "file_path = \"output/genes_list/HSC_vehicle_vs_GMP_vehicle_negForwarded.txt\"\n",
    "with open(file_path, 'r') as file:\n",
    "    gene_list = [line.strip() for line in file]"
   ]
  },
  {
   "cell_type": "code",
   "execution_count": 5,
   "id": "851130c8-72bf-42fa-adda-272ff2042cfe",
   "metadata": {},
   "outputs": [],
   "source": [
    "def apris_human_alias(x):\n",
    "    return x.split(\"|\")[4]"
   ]
  },
  {
   "cell_type": "code",
   "execution_count": 38,
   "id": "41a3ff76-6c86-4346-8b18-7cc1e1a841bb",
   "metadata": {},
   "outputs": [],
   "source": [
    "def process_transcript(transcript, exp, min_len, max_len, alias, cds_range, offset, ribo_object):\n",
    "    start, stop = cds_range[transcript]\n",
    "    coverages = []\n",
    "    for i in range(min_len, max_len + 1): \n",
    "        if offset[i] <= start:\n",
    "            coverage = ribo_object.get_coverage(experiment=exp, range_lower=i, range_upper=i, alias=alias)\\\n",
    "                       [transcript][start - offset[i] : stop - offset[i]]\n",
    "            coverages.append(coverage)\n",
    "        else:\n",
    "            coverage = ribo_object.get_coverage(experiment=exp, range_lower=i, range_upper=i, alias=alias)\\\n",
    "                       [transcript][: stop - offset[i]]\n",
    "            coverage = np.concatenate((np.zeros(offset[i] - start), coverage))\n",
    "            coverages.append(coverage)\n",
    "            \n",
    "    coverage = sum(coverages, np.zeros_like(coverages[0]))\n",
    "    \n",
    "    return transcript, coverage"
   ]
  },
  {
   "cell_type": "code",
   "execution_count": 6,
   "id": "fb408cc4-2bae-4e08-a3ac-25a2584a3610",
   "metadata": {},
   "outputs": [],
   "source": [
    "def process_transcript(transcript, exp, min_len, max_len, alias, cds_range, offset, ribo_object):\n",
    "    # Create a mapping of read lengths to offsets\n",
    "    length_groups = {}\n",
    "    for length in range(min_len, max_len + 1):\n",
    "        if offset[length] not in length_groups:\n",
    "            length_groups[offset[length]] = []\n",
    "        length_groups[offset[length]].append(length)\n",
    "\n",
    "    # Initialize an empty list for storing coverage data\n",
    "    coverages = []\n",
    "\n",
    "    # Loop over the grouped offsets and process coverage for all read lengths with the same offset\n",
    "    for group_offset, lengths in length_groups.items():\n",
    "        # Sort lengths to identify continuous ranges\n",
    "        lengths.sort()\n",
    "        \n",
    "        # Break the lengths into continuous segments\n",
    "        continuous_ranges = []\n",
    "        current_range = [lengths[0]]\n",
    "\n",
    "        for i in range(1, len(lengths)):\n",
    "            if lengths[i] == lengths[i - 1] + 1:  # Check if the current length is continuous\n",
    "                current_range.append(lengths[i])\n",
    "            else:\n",
    "                continuous_ranges.append(current_range)\n",
    "                current_range = [lengths[i]]\n",
    "        \n",
    "        # Don't forget to add the last range\n",
    "        continuous_ranges.append(current_range)\n",
    "\n",
    "        # Fetch coverage for each continuous range\n",
    "        for length_range in continuous_ranges:\n",
    "            min_len_in_range = min(length_range)\n",
    "            max_len_in_range = max(length_range)\n",
    "            \n",
    "            # Get coverage data for the current range\n",
    "            coverage_data = ribo_object.get_coverage(experiment=exp, range_lower=min_len_in_range, \n",
    "                                                     range_upper=max_len_in_range, alias=alias)\n",
    "            \n",
    "            # Process each length in the continuous range\n",
    "            for length in length_range:\n",
    "                start, stop = cds_range[transcript]\n",
    "                offset_value = group_offset\n",
    "\n",
    "                # Check if coverage needs to be adjusted based on the offset\n",
    "                if length <= start:\n",
    "                    coverage = coverage_data[transcript][start - offset_value : stop - offset_value]\n",
    "                else:\n",
    "                    coverage = coverage_data[transcript][: stop - offset_value]\n",
    "                    coverage = np.concatenate((np.zeros(offset_value - start), coverage))\n",
    "                \n",
    "                coverages.append(coverage)\n",
    "\n",
    "    # Sum up the coverages for all read lengths\n",
    "    final_coverage = sum(coverages, np.zeros_like(coverages[0]))\n",
    "    \n",
    "    return transcript, final_coverage"
   ]
  },
  {
   "cell_type": "code",
   "execution_count": null,
   "id": "ac16e740-e91f-4886-8ab5-6dc8fc4a8a1d",
   "metadata": {
    "scrolled": true
   },
   "outputs": [
    {
     "name": "stderr",
     "output_type": "stream",
     "text": [
      "/var/folders/jd/fjgmspbj6zs0pqckr9dv96f40000gn/T/ipykernel_82366/929680436.py:50: RuntimeWarning: overflow encountered in scalar subtract\n",
      "  coverage = np.concatenate((np.zeros(offset_value - start), coverage))\n"
     ]
    }
   ],
   "source": [
    "exp = \"GMP_vehicle_A\"\n",
    "min_len = 20\n",
    "max_len = 38\n",
    "alias = True\n",
    "cds_range = get_cds_range_lookup(ribo_object)\n",
    "offset = get_psite_offset(ribo_object, exp, min_len, max_len)\n",
    "\n",
    "coverage_dict = {}\n",
    "for gene in gene_list:\n",
    "    transcript = apris_human_alias(next(str(name) for name in ribo_object.transcript_names if gene in name))\n",
    "    coverage = process_transcript(transcript, exp, min_len, max_len, alias, cds_range, offset, ribo_object)\n",
    "    coverage_dict[transcript] = coverage"
   ]
  },
  {
   "cell_type": "code",
   "execution_count": 59,
   "id": "b6908dc2-045c-40e9-89f4-3a72b3c5283d",
   "metadata": {},
   "outputs": [
    {
     "name": "stdout",
     "output_type": "stream",
     "text": [
      "[[20, 21, 22], [24, 25, 26, 27, 28], [31, 32, 33, 34, 35, 36, 37, 38]]\n",
      "[[23]]\n",
      "[[29, 30]]\n"
     ]
    }
   ],
   "source": [
    "length_groups = {}\n",
    "for length in range(min_len, max_len + 1):\n",
    "    if offset[length] not in length_groups:\n",
    "        length_groups[offset[length]] = []\n",
    "    length_groups[offset[length]].append(length)\n",
    "\n",
    "for group_offset, lengths in length_groups.items():\n",
    "    # Sort lengths to identify continuous ranges\n",
    "    lengths.sort()\n",
    "    \n",
    "    # Break the lengths into continuous segments\n",
    "    continuous_ranges = []\n",
    "    current_range = [lengths[0]]\n",
    "\n",
    "    for i in range(1, len(lengths)):\n",
    "        if lengths[i] == lengths[i - 1] + 1:  # Check if the current length is continuous\n",
    "            current_range.append(lengths[i])\n",
    "        else:\n",
    "            continuous_ranges.append(current_range)\n",
    "            current_range = [lengths[i]]\n",
    "    \n",
    "    # Don't forget to add the last range\n",
    "    continuous_ranges.append(current_range)\n",
    "    print(continuous_ranges)"
   ]
  },
  {
   "cell_type": "code",
   "execution_count": 54,
   "id": "9cffadc0-4e99-4638-97eb-06cc066de3a5",
   "metadata": {},
   "outputs": [
    {
     "data": {
      "text/plain": [
       "{14: [20, 21, 22, 24, 25, 26, 27, 28, 31, 32, 33, 34, 35, 36, 37, 38],\n",
       " 11: [23],\n",
       " 13: [29, 30]}"
      ]
     },
     "execution_count": 54,
     "metadata": {},
     "output_type": "execute_result"
    }
   ],
   "source": [
    "length_groups"
   ]
  }
 ],
 "metadata": {
  "kernelspec": {
   "display_name": "Python 3 (ipykernel)",
   "language": "python",
   "name": "python3"
  },
  "language_info": {
   "codemirror_mode": {
    "name": "ipython",
    "version": 3
   },
   "file_extension": ".py",
   "mimetype": "text/x-python",
   "name": "python",
   "nbconvert_exporter": "python",
   "pygments_lexer": "ipython3",
   "version": "3.12.4"
  }
 },
 "nbformat": 4,
 "nbformat_minor": 5
}
